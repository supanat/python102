{
 "cells": [
  {
   "cell_type": "code",
   "execution_count": 27,
   "metadata": {},
   "outputs": [],
   "source": [
    "import requests\n",
    "from bs4 import BeautifulSoup"
   ]
  },
  {
   "cell_type": "code",
   "execution_count": 28,
   "metadata": {},
   "outputs": [],
   "source": [
    "url_naweb = 'https://hinaboshi.com/súpđẹp.html'\n",
    "r = requests.get(url_naweb)\n",
    "r.encoding = 'utf-8' # กำหนด encoding กันปัญหาการถอดรหัสผิดแบบ\n",
    "sup = BeautifulSoup(r.text,'lxml')"
   ]
  },
  {
   "cell_type": "code",
   "execution_count": 29,
   "metadata": {},
   "outputs": [
    {
     "data": {
      "text/plain": [
       "bs4.BeautifulSoup"
      ]
     },
     "execution_count": 29,
     "metadata": {},
     "output_type": "execute_result"
    }
   ],
   "source": [
    "type(sup)"
   ]
  },
  {
   "cell_type": "code",
   "execution_count": 30,
   "metadata": {},
   "outputs": [
    {
     "name": "stdout",
     "output_type": "stream",
     "text": [
      "<html>\n",
      " <head>\n",
      "  <meta charset=\"utf-8\"/>\n",
      "  <title>\n",
      "   ~หน้าทดสอบซุปสวย~\n",
      "  </title>\n",
      " </head>\n",
      " <body>\n",
      "  <div class=\"klongyai\">\n",
      "   <div id=\"huakho\">\n",
      "    <img src=\"https://phyblas.hinaboshi.com/rup/thema/qb.png\" width=\"180\"/>\n",
      "    <br/>\n",
      "    <h3>\n",
      "     ว่าด้วยเรื่องของอาหย่อย\n",
      "    </h3>\n",
      "   </div>\n",
      "   <br/>\n",
      "   <br/>\n",
      "   <div class=\"klonglek\" id=\"wali1\">\n",
      "    <a href=\"walidet/946641382021300\">\n",
      "     <img src=\"rup/rupprakopwalidet/946641382021300.jpg\"/>\n",
      "    </a>\n",
      "    <h4 class=\"khokhwam\">\n",
      "     \"ของอร่อยแบบนี้ไม่ว่าจะฤดูไหนมันก็อร่อยอยู่ดีแหละ\"\n",
      "    </h4>\n",
      "    <span class=\"chue kirin\">\n",
      "     #โมริโนะ คิริง\n",
      "    </span>\n",
      "   </div>\n",
      "   <br/>\n",
      "   <br/>\n",
      "   <div id=\"qb\">\n",
      "    ／人◕ ‿‿ ◕人＼\n",
      "   </div>\n",
      "   <br/>\n",
      "   <br/>\n",
      "   <div class=\"klonglek\" id=\"wali2\">\n",
      "    <a href=\"walidet/1793364814015615\">\n",
      "     <img src=\"rup/rupprakopwalidet/1793364814015615.jpg\"/>\n",
      "     <h4 class=\"khokhwam\">\n",
      "      \"ต่อให้เป็นของที่อร่อยแค่ไหนหากกินทุกวันก็ต้องเบื่อ\"\n",
      "     </h4>\n",
      "     <span class=\"chue kazuma\">\n",
      "      #อาซึมะ คาซึมะ\n",
      "     </span>\n",
      "    </a>\n",
      "   </div>\n",
      "  </div>\n",
      "  <p align=\"center\">\n",
      "   <a href=\"https://hinaboshi.com\">\n",
      "    &lt;&lt;-- รวมคำแปลวลีเด็ดจากญี่ปุ่น --&gt;&gt;\n",
      "   </a>\n",
      "  </p>\n",
      " </body>\n",
      " <style>\n",
      "  #huakho,#qb {text-align:center}\n",
      ".klongyai {width:800px;; background:#F8E290; margin:50px; padding:20px}\n",
      ".chue {color: #12B6A6; font-weight:bold}\n",
      "h4 {font-weight:100}\n",
      " </style>\n",
      "</html>\n",
      "\n"
     ]
    }
   ],
   "source": [
    "print(sup.prettify())"
   ]
  },
  {
   "cell_type": "markdown",
   "metadata": {},
   "source": [
    "Find tag"
   ]
  },
  {
   "cell_type": "code",
   "execution_count": 31,
   "metadata": {},
   "outputs": [
    {
     "name": "stdout",
     "output_type": "stream",
     "text": [
      "[<img src=\"https://phyblas.hinaboshi.com/rup/thema/qb.png\" width=\"180\"/>, <img src=\"rup/rupprakopwalidet/946641382021300.jpg\"/>, <img src=\"rup/rupprakopwalidet/1793364814015615.jpg\"/>]\n"
     ]
    }
   ],
   "source": [
    "print(sup.find_all('img'))"
   ]
  },
  {
   "cell_type": "code",
   "execution_count": 32,
   "metadata": {},
   "outputs": [
    {
     "name": "stdout",
     "output_type": "stream",
     "text": [
      "[<img src=\"https://phyblas.hinaboshi.com/rup/thema/qb.png\" width=\"180\"/>, <img src=\"rup/rupprakopwalidet/946641382021300.jpg\"/>, <img src=\"rup/rupprakopwalidet/1793364814015615.jpg\"/>]\n"
     ]
    }
   ],
   "source": [
    "print(sup('img'))"
   ]
  },
  {
   "cell_type": "code",
   "execution_count": 33,
   "metadata": {},
   "outputs": [
    {
     "name": "stdout",
     "output_type": "stream",
     "text": [
      "[<h4 class=\"khokhwam\">\"ของอร่อยแบบนี้ไม่ว่าจะฤดูไหนมันก็อร่อยอยู่ดีแหละ\"</h4>, <h4 class=\"khokhwam\">\"ต่อให้เป็นของที่อร่อยแค่ไหนหากกินทุกวันก็ต้องเบื่อ\"</h4>]\n"
     ]
    }
   ],
   "source": [
    "print(sup('h4'))"
   ]
  },
  {
   "cell_type": "code",
   "execution_count": 34,
   "metadata": {},
   "outputs": [
    {
     "name": "stdout",
     "output_type": "stream",
     "text": [
      "<a href=\"walidet/946641382021300\"><img src=\"rup/rupprakopwalidet/946641382021300.jpg\"/></a>\n"
     ]
    }
   ],
   "source": [
    "print(sup.find('a'))"
   ]
  },
  {
   "cell_type": "code",
   "execution_count": 35,
   "metadata": {},
   "outputs": [
    {
     "name": "stdout",
     "output_type": "stream",
     "text": [
      "<a href=\"walidet/946641382021300\"><img src=\"rup/rupprakopwalidet/946641382021300.jpg\"/></a>\n"
     ]
    }
   ],
   "source": [
    "print(sup.a)"
   ]
  },
  {
   "cell_type": "code",
   "execution_count": 36,
   "metadata": {},
   "outputs": [
    {
     "data": {
      "text/plain": [
       "<h4 class=\"khokhwam\">\"ของอร่อยแบบนี้ไม่ว่าจะฤดูไหนมันก็อร่อยอยู่ดีแหละ\"</h4>"
      ]
     },
     "execution_count": 36,
     "metadata": {},
     "output_type": "execute_result"
    }
   ],
   "source": [
    "sup.h4"
   ]
  },
  {
   "cell_type": "code",
   "execution_count": 37,
   "metadata": {},
   "outputs": [
    {
     "data": {
      "text/plain": [
       "<img src=\"https://phyblas.hinaboshi.com/rup/thema/qb.png\" width=\"180\"/>"
      ]
     },
     "execution_count": 37,
     "metadata": {},
     "output_type": "execute_result"
    }
   ],
   "source": [
    "sup.img"
   ]
  },
  {
   "cell_type": "code",
   "execution_count": 38,
   "metadata": {},
   "outputs": [
    {
     "data": {
      "text/plain": [
       "bs4.element.ResultSet"
      ]
     },
     "execution_count": 38,
     "metadata": {},
     "output_type": "execute_result"
    }
   ],
   "source": [
    "d = sup.find_all('div')\n",
    "type(d)"
   ]
  },
  {
   "cell_type": "code",
   "execution_count": 39,
   "metadata": {},
   "outputs": [
    {
     "data": {
      "text/plain": [
       "5"
      ]
     },
     "execution_count": 39,
     "metadata": {},
     "output_type": "execute_result"
    }
   ],
   "source": [
    "len(d)"
   ]
  },
  {
   "cell_type": "code",
   "execution_count": 40,
   "metadata": {},
   "outputs": [
    {
     "name": "stdout",
     "output_type": "stream",
     "text": [
      "<div class=\"klongyai\">\n",
      "<div id=\"huakho\"><img src=\"https://phyblas.hinaboshi.com/rup/thema/qb.png\" width=\"180\"/><br/>\n",
      "<h3>ว่าด้วยเรื่องของอาหย่อย</h3></div><br/><br/>\n",
      "<div class=\"klonglek\" id=\"wali1\">\n",
      "<a href=\"walidet/946641382021300\"><img src=\"rup/rupprakopwalidet/946641382021300.jpg\"/></a>\n",
      "<h4 class=\"khokhwam\">\"ของอร่อยแบบนี้ไม่ว่าจะฤดูไหนมันก็อร่อยอยู่ดีแหละ\"</h4>\n",
      "<span class=\"chue kirin\">#โมริโนะ คิริง</span>\n",
      "</div>\n",
      "<br/><br/><div id=\"qb\">／人◕ ‿‿ ◕人＼</div><br/><br/>\n",
      "<div class=\"klonglek\" id=\"wali2\">\n",
      "<a href=\"walidet/1793364814015615\"><img src=\"rup/rupprakopwalidet/1793364814015615.jpg\"/><h4 class=\"khokhwam\">\"ต่อให้เป็นของที่อร่อยแค่ไหนหากกินทุกวันก็ต้องเบื่อ\"</h4><span class=\"chue kazuma\">#อาซึมะ คาซึมะ</span></a>\n",
      "</div>\n",
      "</div>\n",
      "<div id=\"huakho\"><img src=\"https://phyblas.hinaboshi.com/rup/thema/qb.png\" width=\"180\"/><br/>\n",
      "<h3>ว่าด้วยเรื่องของอาหย่อย</h3></div>\n",
      "<div class=\"klonglek\" id=\"wali1\">\n",
      "<a href=\"walidet/946641382021300\"><img src=\"rup/rupprakopwalidet/946641382021300.jpg\"/></a>\n",
      "<h4 class=\"khokhwam\">\"ของอร่อยแบบนี้ไม่ว่าจะฤดูไหนมันก็อร่อยอยู่ดีแหละ\"</h4>\n",
      "<span class=\"chue kirin\">#โมริโนะ คิริง</span>\n",
      "</div>\n",
      "<div id=\"qb\">／人◕ ‿‿ ◕人＼</div>\n",
      "<div class=\"klonglek\" id=\"wali2\">\n",
      "<a href=\"walidet/1793364814015615\"><img src=\"rup/rupprakopwalidet/1793364814015615.jpg\"/><h4 class=\"khokhwam\">\"ต่อให้เป็นของที่อร่อยแค่ไหนหากกินทุกวันก็ต้องเบื่อ\"</h4><span class=\"chue kazuma\">#อาซึมะ คาซึมะ</span></a>\n",
      "</div>\n"
     ]
    }
   ],
   "source": [
    "for i in d:\n",
    "    print(i)"
   ]
  },
  {
   "cell_type": "code",
   "execution_count": 41,
   "metadata": {},
   "outputs": [
    {
     "data": {
      "text/plain": [
       "<h4 class=\"khokhwam\">\"ของอร่อยแบบนี้ไม่ว่าจะฤดูไหนมันก็อร่อยอยู่ดีแหละ\"</h4>"
      ]
     },
     "execution_count": 41,
     "metadata": {},
     "output_type": "execute_result"
    }
   ],
   "source": [
    "d[2].find('h4')"
   ]
  },
  {
   "cell_type": "code",
   "execution_count": 42,
   "metadata": {},
   "outputs": [
    {
     "name": "stdout",
     "output_type": "stream",
     "text": [
      "<h4 class=\"khokhwam\">\"ของอร่อยแบบนี้ไม่ว่าจะฤดูไหนมันก็อร่อยอยู่ดีแหละ\"</h4>\n"
     ]
    }
   ],
   "source": [
    "print(sup.find_all('div')[2].find('h4'))"
   ]
  },
  {
   "cell_type": "code",
   "execution_count": 43,
   "metadata": {},
   "outputs": [
    {
     "name": "stdout",
     "output_type": "stream",
     "text": [
      "<h3>ว่าด้วยเรื่องของอาหย่อย</h3>\n"
     ]
    }
   ],
   "source": [
    "print(sup.html.body.div.div.h3)"
   ]
  },
  {
   "cell_type": "markdown",
   "metadata": {},
   "source": [
    "Find from attribute"
   ]
  },
  {
   "cell_type": "code",
   "execution_count": 44,
   "metadata": {},
   "outputs": [
    {
     "name": "stdout",
     "output_type": "stream",
     "text": [
      "<p align=\"center\"><a href=\"https://hinaboshi.com\">&lt;&lt;-- รวมคำแปลวลีเด็ดจากญี่ปุ่น --&gt;&gt;</a></p>\n"
     ]
    }
   ],
   "source": [
    "print(sup.find(align='center'))"
   ]
  },
  {
   "cell_type": "code",
   "execution_count": 45,
   "metadata": {},
   "outputs": [
    {
     "name": "stdout",
     "output_type": "stream",
     "text": [
      "[<h4 class=\"khokhwam\">\"ของอร่อยแบบนี้ไม่ว่าจะฤดูไหนมันก็อร่อยอยู่ดีแหละ\"</h4>, <h4 class=\"khokhwam\">\"ต่อให้เป็นของที่อร่อยแค่ไหนหากกินทุกวันก็ต้องเบื่อ\"</h4>]\n"
     ]
    }
   ],
   "source": [
    "print(sup.find_all(class_='khokhwam'))"
   ]
  },
  {
   "cell_type": "code",
   "execution_count": 46,
   "metadata": {},
   "outputs": [
    {
     "name": "stdout",
     "output_type": "stream",
     "text": [
      "[<span class=\"chue kirin\">#โมริโนะ คิริง</span>, <span class=\"chue kazuma\">#อาซึมะ คาซึมะ</span>]\n"
     ]
    }
   ],
   "source": [
    "print(sup.find_all(class_='chue'))"
   ]
  },
  {
   "cell_type": "code",
   "execution_count": 47,
   "metadata": {},
   "outputs": [
    {
     "name": "stdout",
     "output_type": "stream",
     "text": [
      "<h4 class=\"khokhwam\">\"ของอร่อยแบบนี้ไม่ว่าจะฤดูไหนมันก็อร่อยอยู่ดีแหละ\"</h4>\n"
     ]
    }
   ],
   "source": [
    "print(sup.find('h4',class_='khokhwam'))"
   ]
  },
  {
   "cell_type": "markdown",
   "metadata": {},
   "source": [
    "Find Attribute Tag"
   ]
  },
  {
   "cell_type": "code",
   "execution_count": 48,
   "metadata": {},
   "outputs": [
    {
     "name": "stdout",
     "output_type": "stream",
     "text": [
      "<img src=\"rup/rupprakopwalidet/946641382021300.jpg\"/>\n"
     ]
    }
   ],
   "source": [
    "img1 = sup.find_all('img')[1]\n",
    "print(img1)"
   ]
  },
  {
   "cell_type": "markdown",
   "metadata": {},
   "source": []
  },
  {
   "cell_type": "code",
   "execution_count": 49,
   "metadata": {},
   "outputs": [
    {
     "name": "stdout",
     "output_type": "stream",
     "text": [
      "<span class=\"chue kirin\">#โมริโนะ คิริง</span>\n",
      "span\n"
     ]
    }
   ],
   "source": [
    "huakho = sup.find(class_='chue')\n",
    "print(huakho) # ได้ <span class=\"chue kirin\">#โมริโนะ คิริง</span>\n",
    "print(huakho.name) # ได้ span"
   ]
  },
  {
   "cell_type": "code",
   "execution_count": 50,
   "metadata": {},
   "outputs": [
    {
     "name": "stdout",
     "output_type": "stream",
     "text": [
      "<h4 class=\"khokhwam\">\"ของอร่อยแบบนี้ไม่ว่าจะฤดูไหนมันก็อร่อยอยู่ดีแหละ\"</h4>\n",
      "['\"ของอร่อยแบบนี้ไม่ว่าจะฤดูไหนมันก็อร่อยอยู่ดีแหละ\"']\n"
     ]
    }
   ],
   "source": [
    "print(sup.h4)\n",
    "# ได้ <h4 class=\"khokhwam\">\"ของอร่อยแบบนี้ไม่ว่าจะฤดูไหนมันก็อร่อยอยู่ดีแหละ\"</h4>\n",
    "print(sup.h4.contents)\n",
    "# ได้ ['\"ของอร่อยแบบนี้ไม่ว่าจะฤดูไหนมันก็อร่อยอยู่ดีแหละ\"']"
   ]
  },
  {
   "cell_type": "code",
   "execution_count": 51,
   "metadata": {},
   "outputs": [
    {
     "name": "stdout",
     "output_type": "stream",
     "text": [
      "\n",
      "\n",
      "\n",
      "ว่าด้วยเรื่องของอาหย่อย\n",
      "\n",
      "\n",
      "\"ของอร่อยแบบนี้ไม่ว่าจะฤดูไหนมันก็อร่อยอยู่ดีแหละ\"\n",
      "#โมริโนะ คิริง\n",
      "\n",
      "／人◕ ‿‿ ◕人＼\n",
      "\n",
      "\"ต่อให้เป็นของที่อร่อยแค่ไหนหากกินทุกวันก็ต้องเบื่อ\"#อาซึมะ คาซึมะ\n",
      "\n",
      "\n",
      "<<-- รวมคำแปลวลีเด็ดจากญี่ปุ่น -->>\n",
      "\n"
     ]
    }
   ],
   "source": [
    "print(sup.body.text)"
   ]
  },
  {
   "cell_type": "code",
   "execution_count": null,
   "metadata": {},
   "outputs": [],
   "source": []
  }
 ],
 "metadata": {
  "kernelspec": {
   "display_name": "Python 3",
   "language": "python",
   "name": "python3"
  },
  "language_info": {
   "codemirror_mode": {
    "name": "ipython",
    "version": 3
   },
   "file_extension": ".py",
   "mimetype": "text/x-python",
   "name": "python",
   "nbconvert_exporter": "python",
   "pygments_lexer": "ipython3",
   "version": "3.6.3"
  }
 },
 "nbformat": 4,
 "nbformat_minor": 2
}
